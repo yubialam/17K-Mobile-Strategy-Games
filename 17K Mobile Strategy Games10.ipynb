{
 "cells": [
  {
   "cell_type": "markdown",
   "id": "acting-animation",
   "metadata": {},
   "source": [
    "17K Mobile Strategy Games10"
   ]
  },
  {
   "cell_type": "code",
   "execution_count": 1,
   "id": "contemporary-imperial",
   "metadata": {},
   "outputs": [],
   "source": [
    "import numpy as np \n",
    "import pandas as pd \n",
    "import re\n",
    "import matplotlib.pyplot as plt\n",
    "from sklearn.feature_extraction.text import TfidfVectorizer\n",
    "from sklearn.model_selection import train_test_split\n",
    "from sklearn.metrics import confusion_matrix\n",
    "from sklearn.metrics import classification_report\n",
    "from sklearn import svm\n",
    "from sklearn.model_selection import GridSearchCV\n",
    "import seaborn as sns\n",
    "\n",
    "## Models :\n",
    "from sklearn.naive_bayes import MultinomialNB\n",
    "from sklearn import tree\n",
    "from sklearn.tree import DecisionTreeClassifier\n",
    "from sklearn.ensemble import RandomForestClassifier\n",
    "from sklearn.datasets import make_classification\n",
    "from sklearn.neighbors import KNeighborsClassifier\n",
    "from sklearn.linear_model import SGDClassifier"
   ]
  },
  {
   "cell_type": "code",
   "execution_count": 2,
   "id": "declared-netherlands",
   "metadata": {},
   "outputs": [],
   "source": [
    "pd.set_option('display.max_columns', None) # allows to display all columns of the df"
   ]
  },
  {
   "cell_type": "code",
   "execution_count": 3,
   "id": "quality-kennedy",
   "metadata": {},
   "outputs": [],
   "source": [
    "import os\n",
    "\n",
    "import warnings # ignore warnings\n",
    "warnings.filterwarnings('ignore')"
   ]
  },
  {
   "cell_type": "code",
   "execution_count": 4,
   "id": "comprehensive-leonard",
   "metadata": {},
   "outputs": [],
   "source": [
    "df = pd.read_csv(\"D:/Medium/17K Mobile Strategy Games/appstore games.csv\")"
   ]
  },
  {
   "cell_type": "code",
   "execution_count": 5,
   "id": "quality-mauritius",
   "metadata": {},
   "outputs": [
    {
     "data": {
      "text/html": [
       "<div>\n",
       "<style scoped>\n",
       "    .dataframe tbody tr th:only-of-type {\n",
       "        vertical-align: middle;\n",
       "    }\n",
       "\n",
       "    .dataframe tbody tr th {\n",
       "        vertical-align: top;\n",
       "    }\n",
       "\n",
       "    .dataframe thead th {\n",
       "        text-align: right;\n",
       "    }\n",
       "</style>\n",
       "<table border=\"1\" class=\"dataframe\">\n",
       "  <thead>\n",
       "    <tr style=\"text-align: right;\">\n",
       "      <th></th>\n",
       "      <th>URL</th>\n",
       "      <th>ID</th>\n",
       "      <th>Name</th>\n",
       "      <th>Subtitle</th>\n",
       "      <th>Icon URL</th>\n",
       "      <th>Average User Rating</th>\n",
       "      <th>User Rating Count</th>\n",
       "      <th>Price</th>\n",
       "      <th>In-app Purchases</th>\n",
       "      <th>Description</th>\n",
       "      <th>Developer</th>\n",
       "      <th>Age Rating</th>\n",
       "      <th>Languages</th>\n",
       "      <th>Size</th>\n",
       "      <th>Primary Genre</th>\n",
       "      <th>Genres</th>\n",
       "      <th>Original Release Date</th>\n",
       "      <th>Current Version Release Date</th>\n",
       "    </tr>\n",
       "  </thead>\n",
       "  <tbody>\n",
       "    <tr>\n",
       "      <th>0</th>\n",
       "      <td>https://apps.apple.com/us/app/sudoku/id284921427</td>\n",
       "      <td>284921427</td>\n",
       "      <td>Sudoku</td>\n",
       "      <td>NaN</td>\n",
       "      <td>https://is2-ssl.mzstatic.com/image/thumb/Purpl...</td>\n",
       "      <td>4.0</td>\n",
       "      <td>3553.0</td>\n",
       "      <td>2.99</td>\n",
       "      <td>NaN</td>\n",
       "      <td>Join over 21,000,000 of our fans and download ...</td>\n",
       "      <td>Mighty Mighty Good Games</td>\n",
       "      <td>4+</td>\n",
       "      <td>DA, NL, EN, FI, FR, DE, IT, JA, KO, NB, PL, PT...</td>\n",
       "      <td>15853568.0</td>\n",
       "      <td>Games</td>\n",
       "      <td>Games, Strategy, Puzzle</td>\n",
       "      <td>11/07/2008</td>\n",
       "      <td>30/05/2017</td>\n",
       "    </tr>\n",
       "    <tr>\n",
       "      <th>1</th>\n",
       "      <td>https://apps.apple.com/us/app/reversi/id284926400</td>\n",
       "      <td>284926400</td>\n",
       "      <td>Reversi</td>\n",
       "      <td>NaN</td>\n",
       "      <td>https://is4-ssl.mzstatic.com/image/thumb/Purpl...</td>\n",
       "      <td>3.5</td>\n",
       "      <td>284.0</td>\n",
       "      <td>1.99</td>\n",
       "      <td>NaN</td>\n",
       "      <td>The classic game of Reversi, also known as Oth...</td>\n",
       "      <td>Kiss The Machine</td>\n",
       "      <td>4+</td>\n",
       "      <td>EN</td>\n",
       "      <td>12328960.0</td>\n",
       "      <td>Games</td>\n",
       "      <td>Games, Strategy, Board</td>\n",
       "      <td>11/07/2008</td>\n",
       "      <td>17/05/2018</td>\n",
       "    </tr>\n",
       "    <tr>\n",
       "      <th>2</th>\n",
       "      <td>https://apps.apple.com/us/app/morocco/id284946595</td>\n",
       "      <td>284946595</td>\n",
       "      <td>Morocco</td>\n",
       "      <td>NaN</td>\n",
       "      <td>https://is5-ssl.mzstatic.com/image/thumb/Purpl...</td>\n",
       "      <td>3.0</td>\n",
       "      <td>8376.0</td>\n",
       "      <td>0.00</td>\n",
       "      <td>NaN</td>\n",
       "      <td>Play the classic strategy game Othello (also k...</td>\n",
       "      <td>Bayou Games</td>\n",
       "      <td>4+</td>\n",
       "      <td>EN</td>\n",
       "      <td>674816.0</td>\n",
       "      <td>Games</td>\n",
       "      <td>Games, Board, Strategy</td>\n",
       "      <td>11/07/2008</td>\n",
       "      <td>5/09/2017</td>\n",
       "    </tr>\n",
       "  </tbody>\n",
       "</table>\n",
       "</div>"
      ],
      "text/plain": [
       "                                                 URL         ID     Name  \\\n",
       "0   https://apps.apple.com/us/app/sudoku/id284921427  284921427   Sudoku   \n",
       "1  https://apps.apple.com/us/app/reversi/id284926400  284926400  Reversi   \n",
       "2  https://apps.apple.com/us/app/morocco/id284946595  284946595  Morocco   \n",
       "\n",
       "  Subtitle                                           Icon URL  \\\n",
       "0      NaN  https://is2-ssl.mzstatic.com/image/thumb/Purpl...   \n",
       "1      NaN  https://is4-ssl.mzstatic.com/image/thumb/Purpl...   \n",
       "2      NaN  https://is5-ssl.mzstatic.com/image/thumb/Purpl...   \n",
       "\n",
       "   Average User Rating  User Rating Count  Price In-app Purchases  \\\n",
       "0                  4.0             3553.0   2.99              NaN   \n",
       "1                  3.5              284.0   1.99              NaN   \n",
       "2                  3.0             8376.0   0.00              NaN   \n",
       "\n",
       "                                         Description  \\\n",
       "0  Join over 21,000,000 of our fans and download ...   \n",
       "1  The classic game of Reversi, also known as Oth...   \n",
       "2  Play the classic strategy game Othello (also k...   \n",
       "\n",
       "                  Developer Age Rating  \\\n",
       "0  Mighty Mighty Good Games         4+   \n",
       "1          Kiss The Machine         4+   \n",
       "2               Bayou Games         4+   \n",
       "\n",
       "                                           Languages        Size  \\\n",
       "0  DA, NL, EN, FI, FR, DE, IT, JA, KO, NB, PL, PT...  15853568.0   \n",
       "1                                                 EN  12328960.0   \n",
       "2                                                 EN    674816.0   \n",
       "\n",
       "  Primary Genre                   Genres Original Release Date  \\\n",
       "0         Games  Games, Strategy, Puzzle            11/07/2008   \n",
       "1         Games   Games, Strategy, Board            11/07/2008   \n",
       "2         Games   Games, Board, Strategy            11/07/2008   \n",
       "\n",
       "  Current Version Release Date  \n",
       "0                   30/05/2017  \n",
       "1                   17/05/2018  \n",
       "2                    5/09/2017  "
      ]
     },
     "execution_count": 5,
     "metadata": {},
     "output_type": "execute_result"
    }
   ],
   "source": [
    "df[:3]"
   ]
  },
  {
   "cell_type": "markdown",
   "id": "international-affiliate",
   "metadata": {},
   "source": [
    "As we only need our two variables of interest, we can drop the others :"
   ]
  },
  {
   "cell_type": "code",
   "execution_count": 6,
   "id": "determined-community",
   "metadata": {},
   "outputs": [
    {
     "data": {
      "text/html": [
       "<div>\n",
       "<style scoped>\n",
       "    .dataframe tbody tr th:only-of-type {\n",
       "        vertical-align: middle;\n",
       "    }\n",
       "\n",
       "    .dataframe tbody tr th {\n",
       "        vertical-align: top;\n",
       "    }\n",
       "\n",
       "    .dataframe thead th {\n",
       "        text-align: right;\n",
       "    }\n",
       "</style>\n",
       "<table border=\"1\" class=\"dataframe\">\n",
       "  <thead>\n",
       "    <tr style=\"text-align: right;\">\n",
       "      <th></th>\n",
       "      <th>Age Rating</th>\n",
       "      <th>Description</th>\n",
       "    </tr>\n",
       "  </thead>\n",
       "  <tbody>\n",
       "    <tr>\n",
       "      <th>0</th>\n",
       "      <td>4+</td>\n",
       "      <td>Join over 21,000,000 of our fans and download ...</td>\n",
       "    </tr>\n",
       "    <tr>\n",
       "      <th>1</th>\n",
       "      <td>4+</td>\n",
       "      <td>The classic game of Reversi, also known as Oth...</td>\n",
       "    </tr>\n",
       "    <tr>\n",
       "      <th>2</th>\n",
       "      <td>4+</td>\n",
       "      <td>Play the classic strategy game Othello (also k...</td>\n",
       "    </tr>\n",
       "  </tbody>\n",
       "</table>\n",
       "</div>"
      ],
      "text/plain": [
       "  Age Rating                                        Description\n",
       "0         4+  Join over 21,000,000 of our fans and download ...\n",
       "1         4+  The classic game of Reversi, also known as Oth...\n",
       "2         4+  Play the classic strategy game Othello (also k..."
      ]
     },
     "execution_count": 6,
     "metadata": {},
     "output_type": "execute_result"
    }
   ],
   "source": [
    "df = df.filter([\"Age Rating\",\"Description\"])\n",
    "df[:3]"
   ]
  },
  {
   "cell_type": "markdown",
   "id": "wired-latin",
   "metadata": {},
   "source": [
    "Before beginning the pre-processing phase, we can just quickly have a look at the observations, with some descriptive statistics :"
   ]
  },
  {
   "cell_type": "code",
   "execution_count": 7,
   "id": "liable-cattle",
   "metadata": {},
   "outputs": [
    {
     "name": "stdout",
     "output_type": "stream",
     "text": [
      "<class 'pandas.core.frame.DataFrame'>\n",
      "RangeIndex: 17007 entries, 0 to 17006\n",
      "Data columns (total 2 columns):\n",
      " #   Column       Non-Null Count  Dtype \n",
      "---  ------       --------------  ----- \n",
      " 0   Age Rating   17007 non-null  object\n",
      " 1   Description  17007 non-null  object\n",
      "dtypes: object(2)\n",
      "memory usage: 265.9+ KB\n"
     ]
    }
   ],
   "source": [
    "df.info()"
   ]
  },
  {
   "cell_type": "markdown",
   "id": "absolute-aruba",
   "metadata": {},
   "source": [
    "A first good point is that there are no missing values, both for the age rating and for the descriptions. The dataset is composed of 17.007 observations. We can have a look at the possible values for the target variable Age Rating :"
   ]
  },
  {
   "cell_type": "code",
   "execution_count": 8,
   "id": "impossible-sheet",
   "metadata": {},
   "outputs": [
    {
     "name": "stdout",
     "output_type": "stream",
     "text": [
      "Number of Age Rating classes : 4\n",
      "Labels :['12+' '17+' '4+' '9+']\n"
     ]
    }
   ],
   "source": [
    "print(\"Number of Age Rating classes : \" +str(df[\"Age Rating\"].nunique()))\n",
    "print(\"Labels :\" + str(np.unique(list(df[\"Age Rating\"].values))))"
   ]
  },
  {
   "cell_type": "markdown",
   "id": "gentle-islam",
   "metadata": {},
   "source": [
    "The Age Rating target is composed of 4 classes, so we are in a context of Multi-Label Classification. We can also analyse the representation of each label in this dataset :"
   ]
  },
  {
   "cell_type": "code",
   "execution_count": 9,
   "id": "reverse-vacuum",
   "metadata": {},
   "outputs": [
    {
     "data": {
      "image/png": "[encoded data removed]",
      "text/plain": [
       "<Figure size 842.4x595.44 with 1 Axes>"
      ]
     },
     "metadata": {
      "needs_background": "light"
     },
     "output_type": "display_data"
    }
   ],
   "source": [
    "labels_freqs = df.groupby(\"Age Rating\")[\"Description\"]\\\n",
    "            .count()\\\n",
    "            .to_frame()\\\n",
    "            .reset_index()\\\n",
    "            .sort_values(\"Description\", ascending = False)\n",
    "\n",
    "fig, ax = plt.subplots()\n",
    "fig.set_size_inches(11.7, 8.27)\n",
    "\n",
    "sns.set_theme(style = \"whitegrid\")\n",
    "ax = sns.barplot(x = labels_freqs[\"Age Rating\"], y = labels_freqs[\"Description\"], color = \"orange\")\n",
    "ax.set(xlabel = \"Class\", ylabel = \"Occurences\")\n",
    "plt.xticks(rotation = 0, size = 12, weight = 'normal')\n",
    "plt.title(\"Occurences for each class of Age Rating\\n\", fontsize=18, color= \"orange\")\n",
    "plt.show()"
   ]
  },
  {
   "cell_type": "markdown",
   "id": "built-begin",
   "metadata": {},
   "source": [
    "We clearly see that there is a significant difference of representation between the different classes of the Age Rating : the class \"4+\" is highly represented, unlike the class \"17+\". More generally, there is a negative correlation between the number of observations and the age associated to the class. This phenomenon is quite intuitive as we can imagine that a higher age limit is less interesting for app creators by the fact that it is more restrictive."
   ]
  },
  {
   "cell_type": "markdown",
   "id": "flying-stations",
   "metadata": {},
   "source": [
    "We can now compute the average number of words for the descriptions of each class :"
   ]
  },
  {
   "cell_type": "code",
   "execution_count": 10,
   "id": "laughing-comparative",
   "metadata": {},
   "outputs": [
    {
     "data": {
      "text/html": [
       "<div>\n",
       "<style scoped>\n",
       "    .dataframe tbody tr th:only-of-type {\n",
       "        vertical-align: middle;\n",
       "    }\n",
       "\n",
       "    .dataframe tbody tr th {\n",
       "        vertical-align: top;\n",
       "    }\n",
       "\n",
       "    .dataframe thead th {\n",
       "        text-align: right;\n",
       "    }\n",
       "</style>\n",
       "<table border=\"1\" class=\"dataframe\">\n",
       "  <thead>\n",
       "    <tr style=\"text-align: right;\">\n",
       "      <th></th>\n",
       "      <th>Age Rating</th>\n",
       "      <th>Description</th>\n",
       "      <th>words_count</th>\n",
       "    </tr>\n",
       "  </thead>\n",
       "  <tbody>\n",
       "    <tr>\n",
       "      <th>0</th>\n",
       "      <td>4+</td>\n",
       "      <td>Join over 21,000,000 of our fans and download ...</td>\n",
       "      <td>259</td>\n",
       "    </tr>\n",
       "    <tr>\n",
       "      <th>1</th>\n",
       "      <td>4+</td>\n",
       "      <td>The classic game of Reversi, also known as Oth...</td>\n",
       "      <td>204</td>\n",
       "    </tr>\n",
       "    <tr>\n",
       "      <th>2</th>\n",
       "      <td>4+</td>\n",
       "      <td>Play the classic strategy game Othello (also k...</td>\n",
       "      <td>97</td>\n",
       "    </tr>\n",
       "  </tbody>\n",
       "</table>\n",
       "</div>"
      ],
      "text/plain": [
       "  Age Rating                                        Description  words_count\n",
       "0         4+  Join over 21,000,000 of our fans and download ...          259\n",
       "1         4+  The classic game of Reversi, also known as Oth...          204\n",
       "2         4+  Play the classic strategy game Othello (also k...           97"
      ]
     },
     "execution_count": 10,
     "metadata": {},
     "output_type": "execute_result"
    }
   ],
   "source": [
    "df[\"words_count\"] = df.Description.apply(lambda x : len(x.split()))\n",
    "df[:3]"
   ]
  },
  {
   "cell_type": "code",
   "execution_count": 11,
   "id": "useful-decimal",
   "metadata": {},
   "outputs": [
    {
     "data": {
      "image/png": "[encoded data removed]",
      "text/plain": [
       "<Figure size 842.4x595.44 with 1 Axes>"
      ]
     },
     "metadata": {},
     "output_type": "display_data"
    }
   ],
   "source": [
    "average_lenght = df.groupby(\"Age Rating\")[\"words_count\"]\\\n",
    "            .mean()\\\n",
    "            .to_frame()\\\n",
    "            .reset_index()\\\n",
    "            .sort_values(\"words_count\", ascending = False)\n",
    "\n",
    "\n",
    "fig, ax = plt.subplots()\n",
    "fig.set_size_inches(11.7, 8.27)\n",
    "\n",
    "sns.set_theme(style = \"whitegrid\")\n",
    "ax = sns.barplot(x = average_lenght[\"Age Rating\"], y = average_lenght[\"words_count\"], color = \"orange\")\n",
    "ax.set(xlabel = \"Class\", ylabel = \"Average number of words\")\n",
    "plt.xticks(rotation = 0, size = 12, weight = 'normal')\n",
    "plt.title(\"Average number of words in a description for each class\\n\", fontsize=18, color= \"orange\")\n",
    "plt.show()"
   ]
  },
  {
   "cell_type": "markdown",
   "id": "revised-occasions",
   "metadata": {},
   "source": [
    "The average number of words for descriptions of each class is quite high. We can also notice that it is quite biased to compare the means of each class since we saw previously that the number of observations for each class is highly different."
   ]
  },
  {
   "cell_type": "markdown",
   "id": "dimensional-filename",
   "metadata": {},
   "source": [
    "Cleaning of the Description feature\n",
    "\n",
    "As we will be able to see by printing some descriptions, there is some cleaning to do : we want to remove the reccurent patterns (for example \"\\\\n\\\\n\") that bring us absolutely no more informations to predict the Age Rating. We can clean this up thanks to the use of Regular Expressions (RE package for python). After some exploring, here is a list of the elements to remove :\n",
    "\n",
    "    reccurent patterns probably due to scrapping : \\\\n\\\\n , \\\\u\n",
    "    categories of the description in the App Store : OPTIONS, FEATURES\n",
    "    symbols and punctuation : *, ., ; , ], ) , etc\n",
    "    web site links : \"www.[a-z]*.[a-z]{2}\"\n",
    "    years : \"[2][0-9]{3}\"\n"
   ]
  },
  {
   "cell_type": "code",
   "execution_count": 12,
   "id": "latter-electron",
   "metadata": {},
   "outputs": [
    {
     "data": {
      "text/plain": [
       "'Join over 21,000,000 of our fans and download one of our Sudoku games today!\\\\n\\\\nMakers of the Best Sudoku Game of 2008, Sudoku (Free), we offer you the best selling Sudoku game for iPhone with great features and 1000 unique puzzles! \\\\n\\\\nSudoku will give you many hours of fun and puzzle solving. Enjoy the challenge of solving Sudoku puzzles whenever or wherever you are using your iPhone or iPod Touch. \\\\n\\\\nOPTIONS\\\\n\\\\nAll options are on by default, but you can turn them off in the Options menu\\\\n\\\\u2022 Show Incorrect :: Shows incorrect answers in red.  \\\\n\\\\u2022 Smart Buttons :: Disables the number button when that number is completed on the game board.   \\\\n\\\\u2022 Smart Notes :: Removes the number from the notes in the box, column, and row that contains the cell with your correct answer.\\\\n\\\\nFEATURES\\\\n\\\\n\\\\u2022 1000 unique handcrafted puzzles\\\\n\\\\u2022 ALL puzzles solvable WITHOUT guessing\\\\n\\\\u2022 Four different skill levels\\\\n\\\\u2022 Challenge a friend\\\\n\\\\u2022 Multiple color schemes\\\\n\\\\u2022 \"ALL notes\": tap the \"All notes\" button on to show all the possible answers for each square.  Tap the \"All notes\" button off to remove the notes.\\\\n\\\\u2022 Hints: shows the answer for the selected square or a random square when one is not selected\\\\n\\\\u2022 Pause the game at any time and resume where you left off\\\\n\\\\u2022 Best times, progress statistics, and much more\\\\n\\\\nDo you want more? Try one of our other versions of sudoku which have all the same great features!\\\\n* Try Color Sudoku for a fun twist to solving sudoku puzzles. \\\\n* For advanced puzzle solving, try Expert Sudoku to challenge your sudoku solving skills.'"
      ]
     },
     "execution_count": 12,
     "metadata": {},
     "output_type": "execute_result"
    }
   ],
   "source": [
    "df.Description[0]"
   ]
  },
  {
   "cell_type": "markdown",
   "id": "flexible-functionality",
   "metadata": {},
   "source": [
    "Then let's clean this up :"
   ]
  },
  {
   "cell_type": "code",
   "execution_count": 13,
   "id": "olympic-celebrity",
   "metadata": {},
   "outputs": [],
   "source": [
    "# Remove some recurrent patterns with regular expressions :\n",
    "\n",
    "list_expr_to_remove = [r\"\\\\n\",r\"OPTIONS\",r\"FEATURES\",\n",
    "                       r\"\\\\u\",r\"[2][0-9]{3}\",r\"\\\\\",\n",
    "                       r\"www.[a-z]*.[a-z]{2}\"]\n",
    "\n",
    "for expr in list_expr_to_remove :\n",
    "    df.Description = df.Description.apply(lambda x : re.sub(expr,\"\",x))\n",
    " \n",
    "\n",
    "# Remove all symbols and ponctuation :\n",
    "\n",
    "list_ponctuation_symbols = [\".\", \",\", \"!\", \"?\", \"(\", \")\", \"[\", \"]\", \"*\", \":\", '\"',\"-\"]\n",
    "\n",
    "for elem in list_ponctuation_symbols :\n",
    "    df.Description = df.Description.apply(lambda x : x.replace(elem,\"\"))\n",
    "    \n",
    "# For each description, change all letters from upper case to lower case :\n",
    "df.Description = df.Description.apply(lambda x : x.lower())"
   ]
  },
  {
   "cell_type": "markdown",
   "id": "innocent-platinum",
   "metadata": {},
   "source": [
    "the previous description after the cleaning :"
   ]
  },
  {
   "cell_type": "code",
   "execution_count": 14,
   "id": "official-style",
   "metadata": {},
   "outputs": [
    {
     "data": {
      "text/plain": [
       "'join over 21000000 of our fans and download one of our sudoku games todaymakers of the best sudoku game of  sudoku free we offer you the best selling sudoku game for iphone with great features and 1000 unique puzzles sudoku will give you many hours of fun and puzzle solving enjoy the challenge of solving sudoku puzzles whenever or wherever you are using your iphone or ipod touch all options are on by default but you can turn them off in the options menu show incorrect  shows incorrect answers in red   smart buttons  disables the number button when that number is completed on the game board    smart notes  removes the number from the notes in the box column and row that contains the cell with your correct answer 1000 unique handcrafted puzzles all puzzles solvable without guessing four different skill levels challenge a friend multiple color schemes all notes tap the all notes button on to show all the possible answers for each square  tap the all notes button off to remove the notes hints shows the answer for the selected square or a random square when one is not selected pause the game at any time and resume where you left off best times progress statistics and much moredo you want more try one of our other versions of sudoku which have all the same great features try color sudoku for a fun twist to solving sudoku puzzles  for advanced puzzle solving try expert sudoku to challenge your sudoku solving skills'"
      ]
     },
     "execution_count": 14,
     "metadata": {},
     "output_type": "execute_result"
    }
   ],
   "source": [
    "df.Description[0]"
   ]
  },
  {
   "cell_type": "markdown",
   "id": "invisible-increase",
   "metadata": {},
   "source": [
    "TF-IDF Method : turn descriptions into vectors\n",
    "    \n",
    "The TF-IDF method is a really simple alternative in a context of classification when using texts as features. Formally, we want to turn text data into numerical data so Machine Learning models can clearly interpret the feature in input. To proceed, we need to identify in each text what are the most relevant words, i.e that bring us the most information to put a text in a certain category. To do this, we need to identify for each category what are the most \"typical\" words, and so TF-IDF will help us for this. For a given category we will compute for each word :\n",
    "\n",
    "    his TF (Term Frequency) :\n",
    "\n",
    "    tf(t, d) = count(t,c)\n",
    "\n",
    "    i.e., count of term t in category c.\n",
    "\n",
    "    his IDF (Inverse Document Frequency) :\n",
    "\n",
    "    idf (t, d) = log(D/d∈D:t∈d)\n",
    "\n",
    "Then we will be able to compute the TF-IDF of each word in each category :\n",
    "tf_idf = tf x idf "
   ]
  },
  {
   "cell_type": "code",
   "execution_count": 15,
   "id": "varied-burden",
   "metadata": {},
   "outputs": [],
   "source": [
    "vectorizer = TfidfVectorizer()\n",
    "X = vectorizer.fit_transform(df.Description)"
   ]
  },
  {
   "cell_type": "code",
   "execution_count": 16,
   "id": "collaborative-remedy",
   "metadata": {},
   "outputs": [
    {
     "data": {
      "text/plain": [
       "<1x129803 sparse matrix of type '<class 'numpy.float64'>'\n",
       "\twith 128 stored elements in Compressed Sparse Row format>"
      ]
     },
     "execution_count": 16,
     "metadata": {},
     "output_type": "execute_result"
    }
   ],
   "source": [
    "X[0]"
   ]
  },
  {
   "cell_type": "markdown",
   "id": "legislative-tennis",
   "metadata": {},
   "source": [
    "Train & Test Split :"
   ]
  },
  {
   "cell_type": "code",
   "execution_count": 17,
   "id": "egyptian-location",
   "metadata": {},
   "outputs": [
    {
     "data": {
      "text/plain": [
       "(17007, 129803)"
      ]
     },
     "execution_count": 17,
     "metadata": {},
     "output_type": "execute_result"
    }
   ],
   "source": [
    "X.shape"
   ]
  },
  {
   "cell_type": "code",
   "execution_count": 18,
   "id": "included-vienna",
   "metadata": {},
   "outputs": [
    {
     "data": {
      "text/plain": [
       "(17007, 1)"
      ]
     },
     "execution_count": 18,
     "metadata": {},
     "output_type": "execute_result"
    }
   ],
   "source": [
    "y = df[\"Age Rating\"].to_numpy()\n",
    "y = y.reshape(y.shape[0],1)\n",
    "y.shape"
   ]
  },
  {
   "cell_type": "code",
   "execution_count": 19,
   "id": "impressed-field",
   "metadata": {},
   "outputs": [],
   "source": [
    "X_train, X_test, y_train, y_test = train_test_split(X, y, test_size = 0.20, random_state = 42)"
   ]
  },
  {
   "cell_type": "markdown",
   "id": "micro-privacy",
   "metadata": {},
   "source": [
    "Naive Bayes Classifier :"
   ]
  },
  {
   "cell_type": "code",
   "execution_count": 20,
   "id": "exposed-platform",
   "metadata": {},
   "outputs": [
    {
     "data": {
      "text/plain": [
       "MultinomialNB()"
      ]
     },
     "execution_count": 20,
     "metadata": {},
     "output_type": "execute_result"
    }
   ],
   "source": [
    "naive_bayes = MultinomialNB()\n",
    "naive_bayes.fit(X_train, y_train)"
   ]
  },
  {
   "cell_type": "code",
   "execution_count": 21,
   "id": "coated-letters",
   "metadata": {},
   "outputs": [
    {
     "name": "stdout",
     "output_type": "stream",
     "text": [
      "Classification Report : \n",
      "              precision    recall  f1-score   support\n",
      "\n",
      "         12+       0.36      0.01      0.02       402\n",
      "         17+       0.00      0.00      0.00       123\n",
      "          4+       0.70      1.00      0.82      2364\n",
      "          9+       0.00      0.00      0.00       513\n",
      "\n",
      "    accuracy                           0.69      3402\n",
      "   macro avg       0.26      0.25      0.21      3402\n",
      "weighted avg       0.53      0.69      0.57      3402\n",
      "\n",
      "------------------------------------------\n",
      "Confusion Matrix : \n",
      "[[   4    0  397    1]\n",
      " [   1    0  121    1]\n",
      " [   5    0 2355    4]\n",
      " [   1    0  512    0]]\n"
     ]
    }
   ],
   "source": [
    "y_pred = naive_bayes.predict(X_test)\n",
    "target_names = np.unique(list(df[\"Age Rating\"].values))\n",
    "\n",
    "print(\"Classification Report : \")\n",
    "print(classification_report(y_test, y_pred, target_names = target_names))\n",
    "print(\"------------------------------------------\")\n",
    "print(\"Confusion Matrix : \")\n",
    "print(confusion_matrix(y_test, y_pred))"
   ]
  },
  {
   "cell_type": "markdown",
   "id": "scientific-subdivision",
   "metadata": {},
   "source": [
    "As we can see thanks to the classification report, the accuracy of this model is 69%. It is quite a good score, since we notice that we didn't specify the hyperparameters for this model. Moreover, if we observe the confusion matrix, we see that there remain many \"4+\" observations that were predicted as \"12+\" (397), \"17+\" (121) or \"9+\" (512). Perhaps it is possible to improve the quality of this model, by tuning the values of the hyperparameters. To proceed, we will use GridSearchCV, that allows us to select a list of hyperparameters, and then will test and select the best combinaison of parameters (in terms of accuracy) :"
   ]
  },
  {
   "cell_type": "code",
   "execution_count": 22,
   "id": "authentic-uncertainty",
   "metadata": {},
   "outputs": [
    {
     "data": {
      "text/plain": [
       "GridSearchCV(estimator=MultinomialNB(),\n",
       "             param_grid={'alpha': array([0. , 0.1, 0.2, 0.3, 0.4, 0.5, 0.6, 0.7, 0.8, 0.9, 1. , 1.1, 1.2,\n",
       "       1.3, 1.4, 1.5, 1.6, 1.7, 1.8, 1.9, 2. , 2.1, 2.2, 2.3, 2.4, 2.5,\n",
       "       2.6, 2.7, 2.8, 2.9, 3. , 3.1, 3.2, 3.3, 3.4, 3.5, 3.6, 3.7, 3.8,\n",
       "       3.9, 4. , 4.1, 4.2, 4.3, 4.4, 4.5, 4.6, 4.7, 4.8, 4.9]),\n",
       "                         'fit_prior': (True, False)})"
      ]
     },
     "execution_count": 22,
     "metadata": {},
     "output_type": "execute_result"
    }
   ],
   "source": [
    "parameters = {'alpha' : np.arange(0,5,0.1),\n",
    "              'fit_prior' : (True, False)}\n",
    "\n",
    "naive_bayes = MultinomialNB()\n",
    "clf_naive_bayes = GridSearchCV(naive_bayes, parameters)\n",
    "clf_naive_bayes.fit(X_train, y_train)"
   ]
  },
  {
   "cell_type": "code",
   "execution_count": 23,
   "id": "previous-cardiff",
   "metadata": {},
   "outputs": [
    {
     "data": {
      "text/plain": [
       "0.7476662991547225"
      ]
     },
     "execution_count": 23,
     "metadata": {},
     "output_type": "execute_result"
    }
   ],
   "source": [
    "clf_naive_bayes.best_score_"
   ]
  },
  {
   "cell_type": "markdown",
   "id": "ignored-myanmar",
   "metadata": {},
   "source": [
    "Thanks to this method, we improved the accuracy of the model by 5%, which is quite great. Of course we could test more values to get a better score, but we will instead have a look to other models options."
   ]
  },
  {
   "cell_type": "markdown",
   "id": "tamil-applicant",
   "metadata": {},
   "source": [
    "Decision Tree Classifier :"
   ]
  },
  {
   "cell_type": "code",
   "execution_count": 24,
   "id": "adolescent-merit",
   "metadata": {},
   "outputs": [
    {
     "data": {
      "text/plain": [
       "DecisionTreeClassifier()"
      ]
     },
     "execution_count": 24,
     "metadata": {},
     "output_type": "execute_result"
    }
   ],
   "source": [
    "decision_tree = DecisionTreeClassifier()\n",
    "decision_tree.fit(X_train, y_train)"
   ]
  },
  {
   "cell_type": "code",
   "execution_count": 25,
   "id": "sustained-timing",
   "metadata": {},
   "outputs": [
    {
     "data": {
      "text/plain": [
       "0.701058201058201"
      ]
     },
     "execution_count": 25,
     "metadata": {},
     "output_type": "execute_result"
    }
   ],
   "source": [
    "decision_tree.score(X_test, y_test)"
   ]
  },
  {
   "cell_type": "code",
   "execution_count": 26,
   "id": "painted-contrast",
   "metadata": {},
   "outputs": [
    {
     "name": "stdout",
     "output_type": "stream",
     "text": [
      "Classification Report : \n",
      "              precision    recall  f1-score   support\n",
      "\n",
      "         12+       0.35      0.37      0.36       402\n",
      "         17+       0.29      0.24      0.27       123\n",
      "          4+       0.84      0.86      0.85      2364\n",
      "          9+       0.38      0.35      0.36       513\n",
      "\n",
      "    accuracy                           0.70      3402\n",
      "   macro avg       0.47      0.45      0.46      3402\n",
      "weighted avg       0.69      0.70      0.70      3402\n",
      "\n",
      "------------------------------------------\n",
      "Confusion Matrix : \n",
      "[[ 147   14  149   92]\n",
      " [  22   30   46   25]\n",
      " [ 129   36 2031  168]\n",
      " [ 118   23  195  177]]\n"
     ]
    }
   ],
   "source": [
    "y_pred = decision_tree.predict(X_test)\n",
    "target_names = np.unique(list(df[\"Age Rating\"].values))\n",
    "\n",
    "print(\"Classification Report : \")\n",
    "print(classification_report(y_test, y_pred, target_names = target_names))\n",
    "\n",
    "print(\"------------------------------------------\")\n",
    "print(\"Confusion Matrix : \")\n",
    "print(confusion_matrix(y_test, y_pred))"
   ]
  },
  {
   "cell_type": "markdown",
   "id": "structural-quarterly",
   "metadata": {},
   "source": [
    "The score here is nearly the same that for the previous model Naive Bayes (without tuning). However, the confusion matrix is very different : precision is better for the less represented classes than the Naive Bayes model."
   ]
  },
  {
   "cell_type": "markdown",
   "id": "close-action",
   "metadata": {},
   "source": [
    "K-Nearest Neighbors Classifier"
   ]
  },
  {
   "cell_type": "code",
   "execution_count": 27,
   "id": "mobile-nylon",
   "metadata": {},
   "outputs": [
    {
     "data": {
      "text/plain": [
       "KNeighborsClassifier()"
      ]
     },
     "execution_count": 27,
     "metadata": {},
     "output_type": "execute_result"
    }
   ],
   "source": [
    "knn = KNeighborsClassifier()\n",
    "knn.fit(X_train, y_train)"
   ]
  },
  {
   "cell_type": "code",
   "execution_count": 28,
   "id": "committed-venice",
   "metadata": {},
   "outputs": [
    {
     "data": {
      "text/plain": [
       "0.7454438565549677"
      ]
     },
     "execution_count": 28,
     "metadata": {},
     "output_type": "execute_result"
    }
   ],
   "source": [
    "knn.score(X_test, y_test)"
   ]
  },
  {
   "cell_type": "code",
   "execution_count": 29,
   "id": "forty-headset",
   "metadata": {},
   "outputs": [
    {
     "name": "stdout",
     "output_type": "stream",
     "text": [
      "Classification Report : \n",
      "              precision    recall  f1-score   support\n",
      "\n",
      "         12+       0.40      0.44      0.42       402\n",
      "         17+       0.53      0.36      0.43       123\n",
      "          4+       0.83      0.92      0.88      2364\n",
      "          9+       0.52      0.28      0.36       513\n",
      "\n",
      "    accuracy                           0.75      3402\n",
      "   macro avg       0.57      0.50      0.52      3402\n",
      "weighted avg       0.72      0.75      0.73      3402\n",
      "\n",
      "------------------------------------------\n",
      "Confusion Matrix : \n",
      "[[ 175   14  147   66]\n",
      " [  25   44   48    6]\n",
      " [ 111   18 2175   60]\n",
      " [ 129    7  235  142]]\n"
     ]
    }
   ],
   "source": [
    "y_pred = knn.predict(X_test)\n",
    "target_names = np.unique(list(df[\"Age Rating\"].values))\n",
    "\n",
    "print(\"Classification Report : \")\n",
    "print(classification_report(y_test, y_pred, target_names = target_names))\n",
    "\n",
    "print(\"------------------------------------------\")\n",
    "print(\"Confusion Matrix : \")\n",
    "print(confusion_matrix(y_test, y_pred))"
   ]
  },
  {
   "cell_type": "markdown",
   "id": "coordinate-martin",
   "metadata": {},
   "source": [
    "As expected, the score of this kind of model is better than the two others (without tuning the parameters). Instead of tuning with SearchGridCV, we can just have a graphic representation of the impact of the number of neighbors on the score of the model :"
   ]
  },
  {
   "cell_type": "code",
   "execution_count": 30,
   "id": "monthly-fifteen",
   "metadata": {},
   "outputs": [],
   "source": [
    "scores_list = []\n",
    "n_neighbors_list = [2,5,10,20,30,40,50,60,70,80,90,100,120,140,180,200]\n",
    "for n_neighbors_value in n_neighbors_list:\n",
    "    knn = KNeighborsClassifier(n_neighbors = n_neighbors_value)\n",
    "    knn.fit(X_train, y_train)\n",
    "    scores_list.append(knn.score(X_test, y_test))"
   ]
  },
  {
   "cell_type": "code",
   "execution_count": 31,
   "id": "photographic-nicaragua",
   "metadata": {},
   "outputs": [
    {
     "data": {
      "image/png": "[encoded data removed]",
      "text/plain": [
       "<Figure size 842.4x595.44 with 1 Axes>"
      ]
     },
     "metadata": {},
     "output_type": "display_data"
    }
   ],
   "source": [
    "fig, ax = plt.subplots()\n",
    "fig.set_size_inches(11.7, 8.27)\n",
    "\n",
    "sns.set_theme(style = \"whitegrid\")\n",
    "ax = sns.lineplot(x = n_neighbors_list, y = scores_list, color = \"green\")\n",
    "ax.set(xlabel = \"n_neighbors\", ylabel = \"KNN Model Score\")\n",
    "plt.xticks(rotation = 0, size = 12, weight = 'normal')\n",
    "plt.title(\"Evolution of the KNN Model Score depending of the number of neighbors hyperparameter\\n\", fontsize=18, color='#009432')\n",
    "plt.show()"
   ]
  },
  {
   "cell_type": "markdown",
   "id": "greatest-health",
   "metadata": {},
   "source": [
    "By a simple analysis of the graphic, we can se that the optimal number of neighbors is close to 80 (without touching the others parameters)."
   ]
  },
  {
   "cell_type": "code",
   "execution_count": 32,
   "id": "economic-addition",
   "metadata": {},
   "outputs": [
    {
     "data": {
      "text/plain": [
       "0.7569077013521458"
      ]
     },
     "execution_count": 32,
     "metadata": {},
     "output_type": "execute_result"
    }
   ],
   "source": [
    "knn = KNeighborsClassifier(n_neighbors = 80)\n",
    "knn.fit(X_train, y_train)\n",
    "knn.score(X_test, y_test)"
   ]
  },
  {
   "cell_type": "markdown",
   "id": "special-dairy",
   "metadata": {},
   "source": [
    "Conclusion"
   ]
  },
  {
   "cell_type": "raw",
   "id": "balanced-smooth",
   "metadata": {},
   "source": [
    "results re pretty satisfying. We've tested three different machine learning models who were able to predict the age rating of a game app by simply interpreting its description on the app store. The accuracies obtained are quite encouraging :\n",
    "\n",
    "    74.8 % for the Multinomial Naive Bayes Classifier\n",
    "    74.5 % for the Decision Tree Classifier\n",
    "    75.7 % for the K-Nearest Neighbors Classifier"
   ]
  },
  {
   "cell_type": "code",
   "execution_count": null,
   "id": "statistical-music",
   "metadata": {},
   "outputs": [],
   "source": []
  }
 ],
 "metadata": {
  "kernelspec": {
   "display_name": "Python 3",
   "language": "python",
   "name": "python3"
  },
  "language_info": {
   "codemirror_mode": {
    "name": "ipython",
    "version": 3
   },
   "file_extension": ".py",
   "mimetype": "text/x-python",
   "name": "python",
   "nbconvert_exporter": "python",
   "pygments_lexer": "ipython3",
   "version": "3.8.8"
  }
 },
 "nbformat": 4,
 "nbformat_minor": 5
}
